{
 "cells": [
  {
   "cell_type": "markdown",
   "metadata": {},
   "source": [
    "# Practical session 1 - Some Python basics\n",
    "\n",
    "Students (pair):\n",
    "- [Student 1]([link](https://github.com/username1))\n",
    "- [Student 2]([link](https://github.com/username2))"
   ]
  },
  {
   "cell_type": "markdown",
   "metadata": {},
   "source": [
    "```\n",
    "conda create --name=lab1 --file=requirement.txt \n",
    "conda activate lab1\n",
    "# do not forget to deactivate the environment if needed\n",
    "# you can remove the environment once you are done\n",
    "conda env remove --name=lab1\n",
    "```"
   ]
  },
  {
   "cell_type": "code",
   "execution_count": 1,
   "metadata": {},
   "outputs": [],
   "source": [
    "%load_ext autoreload\n",
    "%autoreload 2"
   ]
  },
  {
   "cell_type": "markdown",
   "metadata": {},
   "source": [
    "## Documentation\n",
    "\n",
    "To display the documentation associated to a Python function in your notebook (launched in VSCode), you can either\n",
    "- run `?functionname` or `help(my_adder)`\n",
    "- place your mouse pointer on the function name\n",
    "- write the name of the function and start opening the brackets"
   ]
  },
  {
   "cell_type": "markdown",
   "metadata": {},
   "source": [
    "## Zen of Python\n"
   ]
  },
  {
   "cell_type": "code",
   "execution_count": 2,
   "metadata": {},
   "outputs": [
    {
     "name": "stdout",
     "output_type": "stream",
     "text": [
      "The Zen of Python, by Tim Peters\n",
      "\n",
      "Beautiful is better than ugly.\n",
      "Explicit is better than implicit.\n",
      "Simple is better than complex.\n",
      "Complex is better than complicated.\n",
      "Flat is better than nested.\n",
      "Sparse is better than dense.\n",
      "Readability counts.\n",
      "Special cases aren't special enough to break the rules.\n",
      "Although practicality beats purity.\n",
      "Errors should never pass silently.\n",
      "Unless explicitly silenced.\n",
      "In the face of ambiguity, refuse the temptation to guess.\n",
      "There should be one-- and preferably only one --obvious way to do it.\n",
      "Although that way may not be obvious at first unless you're Dutch.\n",
      "Now is better than never.\n",
      "Although never is often better than *right* now.\n",
      "If the implementation is hard to explain, it's a bad idea.\n",
      "If the implementation is easy to explain, it may be a good idea.\n",
      "Namespaces are one honking great idea -- let's do more of those!\n"
     ]
    }
   ],
   "source": [
    "import this"
   ]
  },
  {
   "cell_type": "markdown",
   "metadata": {},
   "source": [
    "## Reserved keywords\n"
   ]
  },
  {
   "cell_type": "code",
   "execution_count": 3,
   "metadata": {},
   "outputs": [
    {
     "name": "stdout",
     "output_type": "stream",
     "text": [
      "['False', 'None', 'True', 'and', 'as', 'assert', 'async', 'await', 'break', 'class', 'continue', 'def', 'del', 'elif', 'else', 'except', 'finally', 'for', 'from', 'global', 'if', 'import', 'in', 'is', 'lambda', 'nonlocal', 'not', 'or', 'pass', 'raise', 'return', 'try', 'while', 'with', 'yield']\n"
     ]
    }
   ],
   "source": [
    "import keyword\n",
    "print(keyword.kwlist)"
   ]
  },
  {
   "cell_type": "markdown",
   "metadata": {},
   "source": [
    "## Arithmetic"
   ]
  },
  {
   "cell_type": "markdown",
   "metadata": {},
   "source": [
    "Compute 4 raised to the power 8"
   ]
  },
  {
   "cell_type": "code",
   "execution_count": 5,
   "metadata": {},
   "outputs": [
    {
     "data": {
      "text/plain": [
       "65536"
      ]
     },
     "execution_count": 5,
     "metadata": {},
     "output_type": "execute_result"
    }
   ],
   "source": [
    "a = 4 ** 8"
   ]
  },
  {
   "cell_type": "markdown",
   "metadata": {},
   "source": [
    "Compute the quotient and the remainder of the euclidean division of 17 by 3. "
   ]
  },
  {
   "cell_type": "code",
   "execution_count": 234,
   "metadata": {},
   "outputs": [
    {
     "name": "stdout",
     "output_type": "stream",
     "text": [
      "5 2\n"
     ]
    }
   ],
   "source": [
    "quotient = 17 // 3\n",
    "remainder = 17 % 3\n",
    "\n",
    "#test\n",
    "print(quotient, remainder)"
   ]
  },
  {
   "cell_type": "markdown",
   "metadata": {},
   "source": [
    "Create two integer variables `a, b` of your choice and swap their content."
   ]
  },
  {
   "cell_type": "code",
   "execution_count": 14,
   "metadata": {},
   "outputs": [
    {
     "name": "stdout",
     "output_type": "stream",
     "text": [
      "a = True b = 5\n"
     ]
    }
   ],
   "source": [
    "#creation des variables\n",
    "a = 5\n",
    "b = True\n",
    "\n",
    "#swap\n",
    "a, b = b, a\n",
    "\n",
    "#test\n",
    "print('a =', a, 'b =', b)"
   ]
  },
  {
   "cell_type": "markdown",
   "metadata": {},
   "source": [
    "Modify `a` inplace, so that the new value of `a` is twice its previous value."
   ]
  },
  {
   "cell_type": "code",
   "execution_count": 17,
   "metadata": {},
   "outputs": [],
   "source": [
    "a = a * 2"
   ]
  },
  {
   "cell_type": "markdown",
   "metadata": {},
   "source": [
    "Define a complex number `z` object and print it as\n",
    "\n",
    "`(real=z.real, imag=z.imaginary)`"
   ]
  },
  {
   "cell_type": "code",
   "execution_count": 235,
   "metadata": {},
   "outputs": [
    {
     "name": "stdout",
     "output_type": "stream",
     "text": [
      "real = 1.0 imag = 2.0\n"
     ]
    }
   ],
   "source": [
    "#definition\n",
    "z = complex(1, 2)\n",
    "\n",
    "#test\n",
    "print('real =', z.real, 'imag =', z.imag)"
   ]
  },
  {
   "cell_type": "markdown",
   "metadata": {},
   "source": [
    "## Strings\n"
   ]
  },
  {
   "cell_type": "markdown",
   "metadata": {},
   "source": [
    "Propose two ways to define an empty string"
   ]
  },
  {
   "cell_type": "code",
   "execution_count": 23,
   "metadata": {},
   "outputs": [
    {
     "data": {
      "text/plain": [
       "''"
      ]
     },
     "execution_count": 23,
     "metadata": {},
     "output_type": "execute_result"
    }
   ],
   "source": [
    "way_1 = \"\"\n",
    "way_2 = ''\n",
    "way_3 = str()"
   ]
  },
  {
   "cell_type": "markdown",
   "metadata": {},
   "source": [
    "Define a string made of the 26 letters of the alphabet (lower case), then\n",
    "- What is the 12th letter of the alphabet\n",
    "- What are the 10 last letters of the alphabet\n",
    "- What are the 5th to the 10th letters of the alphabet\n",
    "- Create a new string where the 26 letters are converted to upper case."
   ]
  },
  {
   "cell_type": "code",
   "execution_count": 237,
   "metadata": {},
   "outputs": [
    {
     "name": "stdout",
     "output_type": "stream",
     "text": [
      "12th letter of the alphabet is l\n",
      "10 last letter of the alphabet are qrstuvwxyz\n",
      "5th to the 10th letters of the alphabet are efghi\n",
      "ABCDEFGHIJKLMNOPQRSTUVWXYZ\n"
     ]
    }
   ],
   "source": [
    "import string\n",
    "#crée un string contenant les 26 lettres de l'alphabet\n",
    "alphabet = string.ascii_lowercase\n",
    "\n",
    "print('12th letter of the alphabet is', alphabet[11])\n",
    "print('10 last letter of the alphabet are', alphabet[-10:])\n",
    "print('5th to the 10th letters of the alphabet are', alphabet[4:9])\n",
    "\n",
    "alphabet_uppercase = alphabet.upper()\n",
    "print(alphabet_uppercase)"
   ]
  },
  {
   "cell_type": "markdown",
   "metadata": {},
   "source": [
    "Extract the first 4 digits of the number `x = 2341324530045968` (answer is `2341`)."
   ]
  },
  {
   "cell_type": "code",
   "execution_count": 42,
   "metadata": {},
   "outputs": [
    {
     "name": "stdout",
     "output_type": "stream",
     "text": [
      "2341\n"
     ]
    }
   ],
   "source": [
    "x = 2341324530045968\n",
    "print(str(x)[:4])"
   ]
  },
  {
   "cell_type": "markdown",
   "metadata": {},
   "source": [
    "## Lists"
   ]
  },
  {
   "cell_type": "markdown",
   "metadata": {},
   "source": [
    "Propose two ways to define an empty list."
   ]
  },
  {
   "cell_type": "code",
   "execution_count": 248,
   "metadata": {},
   "outputs": [
    {
     "ename": "TypeError",
     "evalue": "'list' object is not callable",
     "output_type": "error",
     "traceback": [
      "\u001b[1;31m---------------------------------------------------------------------------\u001b[0m",
      "\u001b[1;31mTypeError\u001b[0m                                 Traceback (most recent call last)",
      "Cell \u001b[1;32mIn[248], line 2\u001b[0m\n\u001b[0;32m      1\u001b[0m way1 \u001b[38;5;241m=\u001b[39m []\n\u001b[1;32m----> 2\u001b[0m way2 \u001b[38;5;241m=\u001b[39m \u001b[38;5;28mlist\u001b[39m()\n",
      "\u001b[1;31mTypeError\u001b[0m: 'list' object is not callable"
     ]
    }
   ],
   "source": [
    "way1 = []\n",
    "way2 = list()"
   ]
  },
  {
   "cell_type": "code",
   "execution_count": null,
   "metadata": {},
   "outputs": [],
   "source": [
    "#le way2 ne fonctionne pas alors qu'il devrai, l'erreur est \"TypeError: 'list' object is not callable\", je ne comprend pas pourquoi"
   ]
  },
  {
   "cell_type": "markdown",
   "metadata": {},
   "source": [
    "Create the list of consecutive integers from 5 to 11."
   ]
  },
  {
   "cell_type": "code",
   "execution_count": 45,
   "metadata": {},
   "outputs": [
    {
     "name": "stdout",
     "output_type": "stream",
     "text": [
      "[5, 6, 7, 8, 9, 10, 11]\n"
     ]
    }
   ],
   "source": [
    "L = [*range(5,12,1)]\n",
    "print(L)"
   ]
  },
  {
   "cell_type": "markdown",
   "metadata": {},
   "source": [
    "Add `100` to this list."
   ]
  },
  {
   "cell_type": "code",
   "execution_count": 47,
   "metadata": {},
   "outputs": [
    {
     "name": "stdout",
     "output_type": "stream",
     "text": [
      "[5, 6, 7, 8, 9, 10, 11, 100, 100]\n"
     ]
    }
   ],
   "source": [
    "L.append(100)\n",
    "print(L)"
   ]
  },
  {
   "cell_type": "markdown",
   "metadata": {},
   "source": [
    "Given the following list, \n",
    "Change the `\"sdia\"` to its reverse (`\"aids\"`)."
   ]
  },
  {
   "cell_type": "code",
   "execution_count": 53,
   "metadata": {},
   "outputs": [
    {
     "name": "stdout",
     "output_type": "stream",
     "text": [
      "[10, [3, 4], [5, [100, 200, ['aids']], 23, 11], 1, 7]\n"
     ]
    }
   ],
   "source": [
    "x = [10, [3, 4], [5, [100, 200, [\"sdia\"]], 23, 11], 1, 7]\n",
    "\n",
    "#création de la variable contenant \"sdia\"\n",
    "str = x[2][1][2][0]\n",
    "\n",
    "#création de la variable contenant \"aids\"\n",
    "str_changed = str[::-1]\n",
    "\n",
    "#assignation de la variable \"aids\" en  remplacement de \"sdia\"\n",
    "x[2][1][2][0] = str_changed\n",
    "\n",
    "#test\n",
    "print(x)"
   ]
  },
  {
   "cell_type": "markdown",
   "metadata": {},
   "source": [
    "Given the following list, \n",
    "\n",
    "  1. extract the first two items\n",
    "  2. extract the last two items\n",
    "  3. find the index of the first occurence of `9`\n",
    "  4. extract the items located at odd indices\n",
    "  5. create a new list which corresponds to the reversed version of the originial list\n",
    "  6. create a new list where each item of the original list is raised to the power 3"
   ]
  },
  {
   "cell_type": "code",
   "execution_count": 76,
   "metadata": {},
   "outputs": [
    {
     "name": "stdout",
     "output_type": "stream",
     "text": [
      "1. : [3, 7]\n",
      "2. : [3, 1]\n",
      "3. : 11\n"
     ]
    }
   ],
   "source": [
    "x = [3, 7, 5, 3, 8, 6, 8, 8, 0, 7, 3, 9, 3, 4, 2, 7, 0, 9, 5, 0, 0, 9, 0, 9, 3, 1, 4, 0, 5, 5, 5, 8, 9, 9, 5, 5, 4, 9, 5, 6, 2, 8, 5, 2, 4, 9, 2, 2, 3, 1]\n",
    "\n",
    "#1. \n",
    "print('1. :', x[:2])\n",
    "\n",
    "#2. \n",
    "print('2. :', x[-2:])\n",
    "\n",
    "#3.\n",
    "print('3. :', x.index(9))"
   ]
  },
  {
   "cell_type": "code",
   "execution_count": 241,
   "metadata": {},
   "outputs": [
    {
     "name": "stdout",
     "output_type": "stream",
     "text": [
      "4. : [1, 3, 5, 7, 9]\n"
     ]
    }
   ],
   "source": [
    "#4. \n",
    "#création d'une lsite dans laquelle on va ajouter les éléments d'indice impair\n",
    "x_odd = []\n",
    "\n",
    "#boucle for parcourant la liste x\n",
    "for i in range(len(x)) :\n",
    "    #si l'élément est impair, on l'ajoute à x_odd\n",
    "    if (i%2 == 1) :\n",
    "        x_odd.append(x[i])\n",
    " \n",
    "print('4. :', x_odd)"
   ]
  },
  {
   "cell_type": "code",
   "execution_count": 90,
   "metadata": {},
   "outputs": [
    {
     "name": "stdout",
     "output_type": "stream",
     "text": [
      "5. : [1, 3, 2, 2, 9, 4, 2, 5, 8, 2, 6, 5, 9, 4, 5, 5, 9, 9, 8, 5, 5, 5, 0, 4, 1, 3, 9, 0, 9, 0, 0, 5, 9, 0, 7, 2, 4, 3, 9, 3, 7, 0, 8, 8, 6, 8, 3, 5, 7, 3]\n",
      "6. :  [27, 343, 125, 27, 512, 216, 512, 512, 0, 343, 27, 729, 27, 64, 8, 343, 0, 729, 125, 0, 0, 729, 0, 729, 27, 1, 64, 0, 125, 125, 125, 512, 729, 729, 125, 125, 64, 729, 125, 216, 8, 512, 125, 8, 64, 729, 8, 8, 27, 1]\n"
     ]
    }
   ],
   "source": [
    "#5. \n",
    "x_reversed = x[::-1]\n",
    "print('5. :', x_reversed)\n",
    "\n",
    "\n",
    "#6. \n",
    "power3 = [x[i] ** 3 for i in range(len(x))]\n",
    "print('6. : ', power3)"
   ]
  },
  {
   "cell_type": "markdown",
   "metadata": {},
   "source": [
    "## Tuples"
   ]
  },
  {
   "cell_type": "markdown",
   "metadata": {},
   "source": [
    "\n",
    "Propose two ways to define an empty tuple."
   ]
  },
  {
   "cell_type": "code",
   "execution_count": 101,
   "metadata": {},
   "outputs": [
    {
     "name": "stdout",
     "output_type": "stream",
     "text": [
      "<class 'tuple'>\n",
      "<class 'tuple'>\n"
     ]
    }
   ],
   "source": [
    "way1 = (())\n",
    "print(type(way1))\n",
    "\n",
    "way2 = tuple()\n",
    "print(type(way2))"
   ]
  },
  {
   "cell_type": "markdown",
   "metadata": {},
   "source": [
    "Given the following tuple\n",
    "- try to replace the second item (`4`) to `8`.\n",
    "- modify the list so that the second element of the first item is raised to the power 5 "
   ]
  },
  {
   "cell_type": "markdown",
   "metadata": {},
   "source": [
    "x = ([1, 2, 3], 4)"
   ]
  },
  {
   "cell_type": "code",
   "execution_count": 249,
   "metadata": {},
   "outputs": [
    {
     "name": "stdout",
     "output_type": "stream",
     "text": [
      "4\n"
     ]
    },
    {
     "ename": "TypeError",
     "evalue": "'tuple' object does not support item assignment",
     "output_type": "error",
     "traceback": [
      "\u001b[1;31m---------------------------------------------------------------------------\u001b[0m",
      "\u001b[1;31mTypeError\u001b[0m                                 Traceback (most recent call last)",
      "Cell \u001b[1;32mIn[249], line 3\u001b[0m\n\u001b[0;32m      1\u001b[0m x \u001b[38;5;241m=\u001b[39m ([\u001b[38;5;241m1\u001b[39m, \u001b[38;5;241m2\u001b[39m, \u001b[38;5;241m3\u001b[39m], \u001b[38;5;241m4\u001b[39m)\n\u001b[0;32m      2\u001b[0m \u001b[38;5;28mprint\u001b[39m(x[\u001b[38;5;241m1\u001b[39m])\n\u001b[1;32m----> 3\u001b[0m x[\u001b[38;5;241m1\u001b[39m] \u001b[38;5;241m=\u001b[39m \u001b[38;5;241m8\u001b[39m\n",
      "\u001b[1;31mTypeError\u001b[0m: 'tuple' object does not support item assignment"
     ]
    }
   ],
   "source": [
    "x = ([1, 2, 3], 4)\n",
    "#je teste la commande x[1] pour voir si elle fonctionne \n",
    "print(x[1])\n",
    "\n",
    "#j'essaye d'assigner la valeur 8 au deuxième élément du tuple \n",
    "x[1] = 8"
   ]
  },
  {
   "cell_type": "code",
   "execution_count": null,
   "metadata": {},
   "outputs": [],
   "source": [
    "# il est impossible de remplacer le second item"
   ]
  },
  {
   "cell_type": "code",
   "execution_count": 111,
   "metadata": {},
   "outputs": [
    {
     "name": "stdout",
     "output_type": "stream",
     "text": [
      "([1, 33554432, 3], 4)\n"
     ]
    }
   ],
   "source": [
    "#modify the list so that the second element of the first item is raised to the power 5\n",
    "x[0][1] = x[0][1] ** 5\n",
    "\n",
    "#test\n",
    "print(x)"
   ]
  },
  {
   "cell_type": "markdown",
   "metadata": {},
   "source": [
    "What is the main difference between a list and a tuple?"
   ]
  },
  {
   "cell_type": "code",
   "execution_count": null,
   "metadata": {},
   "outputs": [],
   "source": [
    "# Une fois créé, on ne peut pas modifier les éléments d'un tuple contrairement à ceux d'une liste"
   ]
  },
  {
   "cell_type": "markdown",
   "metadata": {},
   "source": [
    "## Sets"
   ]
  },
  {
   "cell_type": "markdown",
   "metadata": {},
   "source": [
    "Create an empty set"
   ]
  },
  {
   "cell_type": "code",
   "execution_count": 117,
   "metadata": {},
   "outputs": [
    {
     "data": {
      "text/plain": [
       "{}"
      ]
     },
     "execution_count": 117,
     "metadata": {},
     "output_type": "execute_result"
    }
   ],
   "source": [
    "empty_set = set()"
   ]
  },
  {
   "cell_type": "markdown",
   "metadata": {},
   "source": [
    "Compute the intersection between $A = \\{1, 2, 3\\}$ and $B = \\{2, 4, 5, 6\\}$."
   ]
  },
  {
   "cell_type": "code",
   "execution_count": 118,
   "metadata": {},
   "outputs": [
    {
     "name": "stdout",
     "output_type": "stream",
     "text": [
      "{2}\n"
     ]
    }
   ],
   "source": [
    "#création  de A et B\n",
    "A = {1,2,3}\n",
    "B = {2,4,5,6}\n",
    "\n",
    "#création du set intersection de A et B\n",
    "intersection = A & B\n",
    "\n",
    "#test\n",
    "print(intersection)"
   ]
  },
  {
   "cell_type": "markdown",
   "metadata": {},
   "source": [
    "From the following set\n",
    "- add the numbers 4, 5, 6\n",
    "- remove the numbers 1, 2, 3\n",
    "- check if the resulting set is contained in `{1, 2, 4, 5, 6, 10}` "
   ]
  },
  {
   "cell_type": "code",
   "execution_count": 131,
   "metadata": {},
   "outputs": [
    {
     "name": "stdout",
     "output_type": "stream",
     "text": [
      "{0, 1, 2, 3, 4, 5, 6, 7, 8, 9, 10}\n",
      "{0, 4, 5, 6, 7, 8, 9, 10}\n",
      "the resulting set is not contained in {1, 2, 4, 5, 6, 10}\n"
     ]
    }
   ],
   "source": [
    "x = {0, 1, 2, 3, 6, 7, 8, 9, 10}\n",
    "\n",
    "# pour ajouter des valeurs au set :\n",
    "x.update({4, 5, 6})\n",
    "print(x)\n",
    "\n",
    "\n",
    "# pour retirer des valeurs au set\n",
    "x -= {1, 2, 3}\n",
    "print(x)\n",
    "\n",
    "#pour regarder si le set est contenu dans un autre\n",
    "y = {1, 2, 4, 5, 6, 10}\n",
    "if x.issubset(y) :\n",
    "    print(\"the resulting set is contained in {1, 2, 4, 5, 6, 10}\")\n",
    "else :\n",
    "    print(\"the resulting set is not contained in {1, 2, 4, 5, 6, 10}\")"
   ]
  },
  {
   "cell_type": "markdown",
   "metadata": {},
   "source": [
    "## Dictionnaries"
   ]
  },
  {
   "cell_type": "markdown",
   "metadata": {},
   "source": [
    "Propose two ways to define an empty dictionary"
   ]
  },
  {
   "cell_type": "code",
   "execution_count": 133,
   "metadata": {},
   "outputs": [
    {
     "name": "stdout",
     "output_type": "stream",
     "text": [
      "{} {}\n"
     ]
    }
   ],
   "source": [
    "way1 = {}\n",
    "way2 = dict()\n",
    "\n",
    "print(way1, way2)"
   ]
  },
  {
   "cell_type": "markdown",
   "metadata": {},
   "source": [
    "Propose at least 3 ways to define a dictionary with \n",
    "- keys `(\"a\", \"b\", \"c\", \"d\")`\n",
    "- values `(1, 3, 5 , 7)`"
   ]
  },
  {
   "cell_type": "code",
   "execution_count": 143,
   "metadata": {},
   "outputs": [
    {
     "name": "stdout",
     "output_type": "stream",
     "text": [
      "le test est passé\n"
     ]
    }
   ],
   "source": [
    "# 1ère façon, on ajoute les paires clé-valeur dans une accolade\n",
    "way1 = {\"a\" : 1, \"b\" : 3, \"c\" : 5, \"d\" : 7}\n",
    "\n",
    "# 2ème façon, avec la fonction dict() en mettant les éléments clé-valeur entre parenthèses\n",
    "way2 = dict([(\"a\", 1), (\"b\", 3), (\"c\", 5), (\"d\", 7)])\n",
    "\n",
    "# 3ème façon, avec la syntae de compréhension du dicitonnaire\n",
    "key_value = [(\"a\", 1), (\"b\", 3), (\"c\", 5), (\"d\", 7)] #on met les paires clé-valeur dans une liste de tuple\n",
    "way3 = {key: value for key, value in key_value}\n",
    "\n",
    "# on teste si on crée les mêmes dictionnaires :\n",
    "if way1 == way2 == way3 :\n",
    "    print(\"test : ok\")"
   ]
  },
  {
   "cell_type": "markdown",
   "metadata": {},
   "source": [
    "Given the following dictionary, use indexing to get to the word `\"sdia\"`"
   ]
  },
  {
   "cell_type": "code",
   "execution_count": 252,
   "metadata": {},
   "outputs": [
    {
     "name": "stdout",
     "output_type": "stream",
     "text": [
      "sdia\n"
     ]
    }
   ],
   "source": [
    "d = {\n",
    "    \"outer\": [\n",
    "        1,\n",
    "        2,\n",
    "        3,\n",
    "        {\"inner\": [\"this\", \"is\", \"inception\", {\"inner_inner\": [1, 2, 3, \"sdia\"]}]},\n",
    "    ]\n",
    "}\n",
    "\n",
    "\n",
    "#commande :\n",
    "print(d[\"outer\"][3][\"inner\"][3][\"inner_inner\"][3])"
   ]
  },
  {
   "cell_type": "markdown",
   "metadata": {},
   "source": [
    "From the following dictionary,\n",
    "- Create the list of keys\n",
    "- Create the list of values\n",
    "- Check if the key `\"abc\"` is present, if not, return `123`.\n",
    "- Merge the initial dictionary with `{\"e\": -1, 4: True}`"
   ]
  },
  {
   "cell_type": "code",
   "execution_count": 156,
   "metadata": {},
   "outputs": [
    {
     "name": "stdout",
     "output_type": "stream",
     "text": [
      "123\n",
      "{(0, 1): 'abc', 'e': -1, 1: None, None: (1+2j), 4: True}\n"
     ]
    }
   ],
   "source": [
    "d1 = dict(zip([(0, 1), \"e\", 1, None], [\"abc\", 4, None, 1 + 2j]))\n",
    "\n",
    "key_list = list()\n",
    "value_list = list()\n",
    "\n",
    "#create the list of keys\n",
    "for keys in d1.keys() :\n",
    "    key_list.append(keys)\n",
    "\n",
    "#create the list of values\n",
    "for values in d1.values() :\n",
    "    value_list.append(values)\n",
    "\n",
    "# Check if the key \"abc\" is present, if not, return 123\n",
    "if \"abc\" in key_list :\n",
    "    print(\"abc is a key\")\n",
    "else :\n",
    "    print(123)\n",
    "    \n",
    "# Merge the initial dictionary with {\"e\": -1, 4: True}\n",
    "d1.update({\"e\": -1, 4: True})\n",
    "print(d1)"
   ]
  },
  {
   "cell_type": "markdown",
   "metadata": {},
   "source": [
    "## Conditions"
   ]
  },
  {
   "cell_type": "markdown",
   "metadata": {},
   "source": [
    "Propose two ways to construct the list of odd values ranging from 0 to 30"
   ]
  },
  {
   "cell_type": "code",
   "execution_count": 161,
   "metadata": {},
   "outputs": [
    {
     "name": "stdout",
     "output_type": "stream",
     "text": [
      "test : ok\n"
     ]
    }
   ],
   "source": [
    "# 1ère manière : à la main :\n",
    "way1 = [1, 3, 5, 7, 9, 11, 13, 15, 17, 19, 21, 23, 25, 27, 29]\n",
    "\n",
    "# 2è manière : boucle for\n",
    "way2 = [x for x in range(31) if x % 2 == 1]\n",
    "\n",
    "# test que l'on crée 2 listes équivalentes :\n",
    "if way1 == way2 :\n",
    "    print(\"test : ok\")"
   ]
  },
  {
   "cell_type": "markdown",
   "metadata": {},
   "source": [
    "From the following list, create another list which contains\n",
    "- `\"fiz\"` if the item is a multiple of 5,\n",
    "- `\"buz\"` if the item is a multiple of 7,\n",
    "- `\"fizbuz\"` if the item is a both a multiple of 5 and 7,\n",
    "- the index of the item otherwise."
   ]
  },
  {
   "cell_type": "code",
   "execution_count": 169,
   "metadata": {},
   "outputs": [
    {
     "name": "stdout",
     "output_type": "stream",
     "text": [
      "[0, 1, 2, 3, 'fizbuz', 'fiz', 'fizbuz', 7, 8, 'buz']\n"
     ]
    }
   ],
   "source": [
    "x = [2, 1, 3, 31, 35, 20, 70, 132, 144, 49]\n",
    "\n",
    "list = [0] * len(x)\n",
    "\n",
    "#boucle pour parcourir les éléments de la liste\n",
    "for i in range(len(x)) : \n",
    "    #on regarde en premier si il est multiple de 5 ET 7\n",
    "    if x[i] % 7 == 0 and x[i] % 5 == 0 :\n",
    "        list[i] = 'fizbuz'\n",
    "    #on regarde les autres cas\n",
    "    elif x[i] % 7 == 0 :\n",
    "        list[i] = 'buz'\n",
    "    elif x[i] % 5 == 0 :\n",
    "        list[i] = 'fiz'\n",
    "    #si aucun des cas précédents n'est verifié, l'élément n'est multiple ni de 5 ni de 7\n",
    "    else :\n",
    "        list[i] = i\n",
    "        \n",
    "print(list)"
   ]
  },
  {
   "cell_type": "markdown",
   "metadata": {},
   "source": [
    "Given a string variable `course`, construct a `if/elif/else` statement that prints:\n",
    "- `\"That is very useful!\"` if `course` is `\"maths\"` (any kind of capitalization)\n",
    "- `\"That is very useful!\"` if `course` is `\"python\"` (any kind of capitalization)\n",
    "- `\"How nice!\"` if `course` is `\"meditation\"` (any kind of capitalization)\n",
    "- `\"You're not at Hogwarts\"` if `course` is `\"magic\"` (any kind of capitalization)\n",
    "- otherwise `\"What is this COURSE?\"` if `course` is anything else."
   ]
  },
  {
   "cell_type": "code",
   "execution_count": 175,
   "metadata": {},
   "outputs": [
    {
     "name": "stdout",
     "output_type": "stream",
     "text": [
      "You're not at Hogwarts\n"
     ]
    }
   ],
   "source": [
    "course = \"magic\"\n",
    "\n",
    "if course == \"maths\" : \n",
    "    print(\"That is very useful!\")\n",
    "elif course == \"python\" : \n",
    "    print(\"That is very useful!\")\n",
    "elif course == \"meditation\" : \n",
    "    print(\"How nice!\")\n",
    "elif course == \"magic\" : \n",
    "    print(\"You're not at Hogwarts\")\n",
    "else :\n",
    "    print(\"What is this COURSE?\")"
   ]
  },
  {
   "cell_type": "markdown",
   "metadata": {},
   "source": [
    "Given the following variables, create and print the string\n",
    "\n",
    "``quantity`` ``fruit``(s) cost(s) $``price``\n",
    "\n",
    "such that\n",
    "- there is an `\"s\"` at `\"cost\"` when there is more only one fruit,\n",
    "- there is an `\"s\"` at `\"fruit\"` when there is more that one fruit,\n",
    "- the price is displayed as ...,xxx,xxx.yy where yy corresponds rounded cents value"
   ]
  },
  {
   "cell_type": "code",
   "execution_count": 254,
   "metadata": {},
   "outputs": [
    {
     "name": "stdout",
     "output_type": "stream",
     "text": [
      "1 fruit cost 18,912.39\n"
     ]
    }
   ],
   "source": [
    "quantity = 1\n",
    "fruit = \"avocado\"\n",
    "price = 1.8912392e4\n",
    "\n",
    "#if pour regarder si la quantité est 1\n",
    "if quantity == 1 :\n",
    "    print(quantity, \"fruit\", \"cost\", \"{:,.2f}\".format(price))\n",
    "\n",
    "#en supposant que le prix est le prix unitaire, si quantité > 1 on a :\n",
    "else :\n",
    "    print(quantity, \"fruits\", \"costs\", \"{:,.2f}\".format(quantity * price))"
   ]
  },
  {
   "cell_type": "markdown",
   "metadata": {},
   "source": [
    "## Functions"
   ]
  },
  {
   "cell_type": "markdown",
   "metadata": {},
   "source": [
    "Define the function `is_unique(x)` which takes a list of integers `x` as input and returns `True` if the there is no duplicate items otherwise return `False`."
   ]
  },
  {
   "cell_type": "code",
   "execution_count": 191,
   "metadata": {},
   "outputs": [
    {
     "name": "stdout",
     "output_type": "stream",
     "text": [
      "True\n",
      "False\n"
     ]
    }
   ],
   "source": [
    "def is_unique(x) :\n",
    "    #je crée une liste pour ajouter les éléments uniques\n",
    "    unique_x = []\n",
    "    \n",
    "    #boucle pour parcourir la liste\n",
    "    for elem in x :\n",
    "        #si l'élément est dans unique_x, il y a un duplicatat\n",
    "        if elem in unique_x :\n",
    "            return False\n",
    "        #sinon, je l'ajoute à la liste des éléments uniques\n",
    "        else :\n",
    "            unique_x.append(elem)\n",
    "    #en arrivant là on a parcouru tous les éléments de la liste, il n'y a pas de duplicatat\n",
    "    return True\n",
    "\n",
    "#test de la fonction\n",
    "x = [0, 1, 2, 3, 4, 5, 6, 7, 8, 9]\n",
    "print(is_unique(x))\n",
    "\n",
    "y = [0, 1, 2, 3, 4, 5, 6, 7, 8, 8]\n",
    "print(is_unique(y))"
   ]
  },
  {
   "cell_type": "markdown",
   "metadata": {},
   "source": [
    "Define a function `triangle_shape(height)`, that returns \n",
    "- `\"\"` if `height=0`, \n",
    "- otherwise it returns a string that forms a triangle with height prescribed by `height`.\n",
    "\n",
    "**Examples**\n",
    "\n",
    "height=1\n",
    "```\n",
    "x\n",
    "```\n",
    "\n",
    "height=2\n",
    "```\n",
    " x \n",
    "xxx\n",
    "```\n",
    "\n",
    "height=3\n",
    "```\n",
    "  x  \n",
    " xxx \n",
    "xxxxx\n",
    "```\n",
    "\n",
    "height=4\n",
    "```\n",
    "   x   \n",
    "  xxx  \n",
    " xxxxx \n",
    "xxxxxxx\n",
    "```\n",
    "\n",
    "height=5\n",
    "```\n",
    "    x    \n",
    "   xxx   \n",
    "  xxxxx  \n",
    " xxxxxxx \n",
    "xxxxxxxxx\n",
    "```\n",
    "\n",
    "height=6\n",
    "```\n",
    "     x     \n",
    "    xxx    \n",
    "   xxxxx   \n",
    "  xxxxxxx  \n",
    " xxxxxxxxx \n",
    "xxxxxxxxxxx\n",
    "```"
   ]
  },
  {
   "cell_type": "code",
   "execution_count": 255,
   "metadata": {},
   "outputs": [
    {
     "name": "stdout",
     "output_type": "stream",
     "text": [
      "height = 0 \n",
      "height = 1 \n",
      "            x            \n",
      "height = 2 \n",
      "            x            \n",
      "           xxx           \n",
      "height = 3 \n",
      "            x            \n",
      "           xxx           \n",
      "          xxxxx          \n",
      "height = 4 \n",
      "            x            \n",
      "           xxx           \n",
      "          xxxxx          \n",
      "         xxxxxxx         \n",
      "height = 5 \n",
      "            x            \n",
      "           xxx           \n",
      "          xxxxx          \n",
      "         xxxxxxx         \n",
      "        xxxxxxxxx        \n",
      "height = 6 \n",
      "            x            \n",
      "           xxx           \n",
      "          xxxxx          \n",
      "         xxxxxxx         \n",
      "        xxxxxxxxx        \n",
      "       xxxxxxxxxxx       \n",
      "height = 7 \n",
      "            x            \n",
      "           xxx           \n",
      "          xxxxx          \n",
      "         xxxxxxx         \n",
      "        xxxxxxxxx        \n",
      "       xxxxxxxxxxx       \n",
      "      xxxxxxxxxxxxx      \n",
      "height = 8 \n",
      "            x            \n",
      "           xxx           \n",
      "          xxxxx          \n",
      "         xxxxxxx         \n",
      "        xxxxxxxxx        \n",
      "       xxxxxxxxxxx       \n",
      "      xxxxxxxxxxxxx      \n",
      "     xxxxxxxxxxxxxxx     \n",
      "height = 9 \n",
      "            x            \n",
      "           xxx           \n",
      "          xxxxx          \n",
      "         xxxxxxx         \n",
      "        xxxxxxxxx        \n",
      "       xxxxxxxxxxx       \n",
      "      xxxxxxxxxxxxx      \n",
      "     xxxxxxxxxxxxxxx     \n",
      "    xxxxxxxxxxxxxxxxx    \n"
     ]
    }
   ],
   "source": [
    "def triangle_shape(height) :\n",
    "    #premier cas : la taille est nulle\n",
    "    if height == 0 :\n",
    "        return \"\"\n",
    "    \n",
    "    #second cas : la taille est non nulle\n",
    "    else :\n",
    "        #on crée une variable contenant la chaine de caractère que l'on utilise pour construire le triangle\n",
    "        a = \"x\"\n",
    "        #on crée un triangle vide que l'on va construire dans une boucle for\n",
    "        triangle = \"\"\n",
    "        #boucle for allant de 1 (sommet du triangle) à height pour parcourir le nombre d'étages du triangle\n",
    "        for i in range(1, height + 1) :\n",
    "            #à chaque itération, on saute une ligne et on ajoute au triangle un étage contenant (2i - 1) x  \n",
    "            #j'ai trouvé la commande str.center(25) sur internet, qui permet de centrer un string\n",
    "            triangle = triangle + \"\\n\" + (a * (2 * i - 1)).center(25)\n",
    "    return triangle\n",
    "\n",
    "#tests\n",
    "\n",
    "for i in range(10) :\n",
    "    print(\"height =\", i, triangle_shape(i))"
   ]
  },
  {
   "cell_type": "code",
   "execution_count": 227,
   "metadata": {},
   "outputs": [
    {
     "name": "stdout",
     "output_type": "stream",
     "text": [
      "\n",
      "            x            \n",
      "           xxx           \n",
      "          xxxxx          \n",
      "         xxxxxxx         \n",
      "        xxxxxxxxx        \n",
      "       xxxxxxxxxxx       \n",
      "      xxxxxxxxxxxxx      \n",
      "     xxxxxxxxxxxxxxx     \n",
      "    xxxxxxxxxxxxxxxxx    \n",
      "   xxxxxxxxxxxxxxxxxxx   \n"
     ]
    }
   ],
   "source": [
    "print(triangle_shape(10))"
   ]
  },
  {
   "cell_type": "code",
   "execution_count": 211,
   "metadata": {},
   "outputs": [
    {
     "name": "stdout",
     "output_type": "stream",
     "text": [
      "x\n",
      "xx\n"
     ]
    }
   ],
   "source": []
  }
 ],
 "metadata": {
  "kernelspec": {
   "display_name": "Python 3 (ipykernel)",
   "language": "python",
   "name": "python3"
  },
  "language_info": {
   "codemirror_mode": {
    "name": "ipython",
    "version": 3
   },
   "file_extension": ".py",
   "mimetype": "text/x-python",
   "name": "python",
   "nbconvert_exporter": "python",
   "pygments_lexer": "ipython3",
   "version": "3.11.4"
  },
  "vscode": {
   "interpreter": {
    "hash": "916dbcbb3f70747c44a77c7bcd40155683ae19c65e1c03b4aa3499c5328201f1"
   }
  }
 },
 "nbformat": 4,
 "nbformat_minor": 2
}
